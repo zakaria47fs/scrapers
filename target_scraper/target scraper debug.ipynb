{
 "cells": [
  {
   "cell_type": "code",
   "execution_count": 18,
   "id": "15468559",
   "metadata": {},
   "outputs": [],
   "source": [
    "from selenium import webdriver"
   ]
  },
  {
   "cell_type": "code",
   "execution_count": 19,
   "id": "d6dc903a",
   "metadata": {},
   "outputs": [],
   "source": [
    "from selenium import webdriver as wd\n",
    "from selenium.webdriver.common.by import By\n",
    "from selenium.webdriver.support.ui import WebDriverWait\n",
    "from selenium.webdriver.support import expected_conditions as EC\n",
    "from bs4 import BeautifulSoup\n",
    "import time"
   ]
  },
  {
   "cell_type": "code",
   "execution_count": 82,
   "id": "dfb4987b",
   "metadata": {
    "scrolled": true
   },
   "outputs": [
    {
     "name": "stderr",
     "output_type": "stream",
     "text": [
      "/var/folders/ct/cd48b9z931s8djtwhn570rx00000gn/T/ipykernel_72389/1233959162.py:6: DeprecationWarning: use options instead of chrome_options\n",
      "  driver = webdriver.Chrome(\"chromedriver\", chrome_options=options)\n"
     ]
    }
   ],
   "source": [
    "options = webdriver.ChromeOptions()\n",
    "options.add_argument('--ignore-certificate-errors')\n",
    "#options.add_argument('--incognito')\n",
    "#options.add_argument('--headless')\n",
    "\n",
    "driver = webdriver.Chrome(\"chromedriver\", chrome_options=options)"
   ]
  },
  {
   "cell_type": "code",
   "execution_count": 83,
   "id": "902dd213",
   "metadata": {},
   "outputs": [],
   "source": [
    "url = \"https://weeklyad.target.com\"\n",
    "driver.get(url)\n",
    "driver.maximize_window()"
   ]
  },
  {
   "cell_type": "code",
   "execution_count": 84,
   "id": "a750fef0",
   "metadata": {},
   "outputs": [],
   "source": [
    "wait = WebDriverWait(driver,10)"
   ]
  },
  {
   "cell_type": "code",
   "execution_count": 85,
   "id": "b99b9776",
   "metadata": {
    "scrolled": true
   },
   "outputs": [],
   "source": [
    "View_the_Weekly_Ad = wait.until(EC.visibility_of_element_located((By.XPATH,\"//button[text()='View the Weekly Ad']\")))\n",
    "View_the_Weekly_Ad_url = driver.current_url[:-1]+View_the_Weekly_Ad.get_attribute('href')\n",
    "driver.get(View_the_Weekly_Ad_url)"
   ]
  },
  {
   "cell_type": "code",
   "execution_count": 86,
   "id": "a73a0285",
   "metadata": {},
   "outputs": [],
   "source": [
    "View_by_Category = wait.until(EC.visibility_of_element_located((By.XPATH,\"//a[@class='category-view secondary-nav-text ng-scope']\")))\n",
    "View_by_Category_url = View_by_Category.get_attribute('href')\n",
    "#driver.get(View_by_Category_url)"
   ]
  },
  {
   "cell_type": "code",
   "execution_count": 87,
   "id": "5748122a",
   "metadata": {},
   "outputs": [
    {
     "data": {
      "text/plain": [
       "'https://weeklyad.target.com/promotions?code=Target-20221106'"
      ]
     },
     "execution_count": 87,
     "metadata": {},
     "output_type": "execute_result"
    }
   ],
   "source": [
    "View_the_Weekly_Ad_url"
   ]
  },
  {
   "cell_type": "code",
   "execution_count": 88,
   "id": "99bf536e",
   "metadata": {
    "scrolled": true
   },
   "outputs": [
    {
     "data": {
      "text/plain": [
       "'https://weeklyad.target.com/categories'"
      ]
     },
     "execution_count": 88,
     "metadata": {},
     "output_type": "execute_result"
    }
   ],
   "source": [
    "View_by_Category_url"
   ]
  },
  {
   "cell_type": "code",
   "execution_count": null,
   "id": "ebf485b9",
   "metadata": {},
   "outputs": [],
   "source": []
  },
  {
   "cell_type": "code",
   "execution_count": null,
   "id": "91dcce8b",
   "metadata": {},
   "outputs": [],
   "source": []
  },
  {
   "cell_type": "code",
   "execution_count": 89,
   "id": "fd6f8d1b",
   "metadata": {},
   "outputs": [],
   "source": [
    "time.sleep(2)"
   ]
  },
  {
   "cell_type": "code",
   "execution_count": 90,
   "id": "dd3048a2",
   "metadata": {},
   "outputs": [
    {
     "data": {
      "text/plain": [
       "'https://weeklyad.target.com/categories?code=Target-20221106'"
      ]
     },
     "execution_count": 90,
     "metadata": {},
     "output_type": "execute_result"
    }
   ],
   "source": [
    "View_by_Category = wait.until(EC.visibility_of_element_located((By.XPATH,\"//a[@class='category-view secondary-nav-text ng-scope']\")))\n",
    "View_by_Category_url = View_by_Category.get_attribute('href')\n",
    "View_by_Category_url"
   ]
  },
  {
   "cell_type": "code",
   "execution_count": null,
   "id": "a59aba56",
   "metadata": {},
   "outputs": [],
   "source": []
  },
  {
   "cell_type": "code",
   "execution_count": null,
   "id": "adef17b2",
   "metadata": {},
   "outputs": [],
   "source": []
  },
  {
   "cell_type": "code",
   "execution_count": 27,
   "id": "de7ab20a",
   "metadata": {},
   "outputs": [
    {
     "data": {
      "text/plain": [
       "'<html lang=\"en\" xmlns=\"http://www.w3.org/1999/xhtml\"><head><style type=\"text/css\">[uib-typeahead-popup].dropdown-menu{display:block;}</style><style type=\"text/css\">.uib-time input{width:50px;}</style><style type=\"text/css\">[uib-tooltip-popup].tooltip.top-left > .tooltip-arrow,[uib-tooltip-popup].tooltip.top-right > .tooltip-arrow,[uib-tooltip-popup].tooltip.bottom-left > .tooltip-arrow,[uib-tooltip-popup].tooltip.bottom-right > .tooltip-arrow,[uib-tooltip-popup].tooltip.left-top > .tooltip-arrow,[uib-tooltip-popup].tooltip.left-bottom > .tooltip-arrow,[uib-tooltip-popup].tooltip.right-top > .tooltip-arrow,[uib-tooltip-popup].tooltip.right-bottom > .tooltip-arrow,[uib-tooltip-html-popup].tooltip.top-left > .tooltip-arrow,[uib-tooltip-html-popup].tooltip.top-right > .tooltip-arrow,[uib-tooltip-html-popup].tooltip.bottom-left > .tooltip-arrow,[uib-tooltip-html-popup].tooltip.bottom-right > .tooltip-arrow,[uib-tooltip-html-popup].tooltip.left-top > .tooltip-arrow,[uib-tooltip-html-popup].tooltip.left-bottom > .tooltip-arrow,[uib-tooltip-html-popup].tooltip.right-top > .tooltip-arrow,[uib-tooltip-html-popup].tooltip.right-bottom > .tooltip-arrow,[uib-tooltip-template-popup].tooltip.top-left > .tooltip-arrow,[uib-tooltip-template-popup].tooltip.top-right > .tooltip-arrow,[uib-tooltip-template-popup].tooltip.bottom-left > .tooltip-arrow,[uib-tooltip-template-popup].tooltip.bottom-right > .tooltip-arrow,[uib-tooltip-template-popup].tooltip.left-top > .tooltip-arrow,[uib-tooltip-template-popup].tooltip.left-bottom > .tooltip-arrow,[uib-tooltip-template-popup].tooltip.right-top > .tooltip-arrow,[uib-tooltip-template-popup].tooltip.right-bottom > .tooltip-arrow,[uib-popover-popup].popover.top-left > .arrow,[uib-popover-popup].popover.top-right > .arrow,[uib-popover-popup].popover.bottom-left > .arrow,[uib-popover-popup].popover.bottom-right > .arrow,[uib-popover-popup].popover.left-top > .arrow,[uib-popover-popup].popover.left-bottom > .arrow,[uib-popover-popup].popover.right-top > .arrow,[uib-popover-popup].popover.right-bottom > .arrow,[uib-popover-html-popup].popover.top-left > .arrow,[uib-popover-html-popup].popover.top-right > .arrow,[uib-popover-html-popup].popover.bottom-left > .arrow,[uib-popover-html-popup].popover.bottom-right > .arrow,[uib-popover-html-popup].popover.left-top > .arrow,[uib-popover-html-popup].popover.left-bottom > .arrow,[uib-popover-html-popup].popover.right-top > .arrow,[uib-popover-html-popup].popover.right-bottom > .arrow,[uib-popover-template-popup].popover.top-left > .arrow,[uib-popover-template-popup].popover.top-right > .arrow,[uib-popover-template-popup].popover.bottom-left > .arrow,[uib-popover-template-popup].popover.bottom-right > .arrow,[uib-popover-template-popup].popover.left-top > .arrow,[uib-popover-template-popup].popover.left-bottom > .arrow,[uib-popover-template-popup].popover.right-top > .arrow,[uib-popover-template-popup].popover.right-bottom > .arrow{top:auto;bottom:auto;left:auto;right:auto;margin:0;}[uib-popover-popup].popover,[uib-popover-html-popup].popover,[uib-popover-template-popup].popover{display:block !important;}</style><style type=\"text/css\">.uib-datepicker-popup.dropdown-menu{display:block;float:none;margin:0;}.uib-button-bar{padding:10px 9px 2px;}</style><style type=\"text/css\">.uib-position-measure{display:block !important;visibility:hidden !important;position:absolute !important;top:-9999px !important;left:-9999px !important;}.uib-position-scrollbar-measure{position:absolute !important;top:-9999px !important;width:50px !important;height:50px !important;overflow:scroll !important;}.uib-position-body-scrollbar-measure{overflow:scroll !important;}</style><style type=\"text/css\">.uib-datepicker .uib-title{width:100%;}.uib-day button,.uib-month button,.uib-year button{min-width:100%;}.uib-left,.uib-right{width:100%}</style><style type=\"text/css\">.ng-animate.item:not(.left):not(.right){-webkit-transition:0s ease-in-out left;transition:0s ease-in-out left}</style><style type=\"text/css\">@charset \"UTF-8\";[ng\\\\:cloak],[ng-cloak],[data-ng-cloak],[x-ng-cloak],.ng-cloak,.x-ng-cloak,.ng-hide:not(.ng-hide-animate){display:none !important;}ng\\\\:form{display:block;}.ng-animate-shim{visibility:hidden;}.ng-anchor{position:absolute;}</style>\\n\\t\\t<base href=\"/\">\\n\\t\\t<title>Weekly Deals In Stores Now : Target Weekly Ad</title>\\n\\n\\t\\t<!-- General META -->\\n\\t\\t<meta charset=\"utf-8\">\\n\\t\\t<meta http-equiv=\"Content-type\" content=\"text/html;charset=UTF-8\">\\n\\t\\t<meta http-equiv=\"X-UA-Compatible\" content=\"IE=edge,chrome=1\">\\n\\t\\t\\n\\t\\t<!-- Google Webmaster META -->\\n\\t\\t<meta name=\"google-site-verification\" content=\"rYBaCxQKrCeIgyo7P14BdZc66p0l6olAoea9KEunbcI\">\\n\\n\\t\\t<meta name=\"viewport\" content=\"width=device-width,initial-scale=1,maximum-scale=1\">\\n\\t\\t<meta name=\"apple-mobile-web-app-capable\" content=\"yes\">\\n\\t\\t<meta name=\"apple-mobile-web-app-status-bar-style\" content=\"black\">\\n\\n\\t\\t<!-- Semantic META -->\\n\\t\\t<meta name=\"keywords\" content=\"Target, target weekly ad, target sales, target coupons, sales, deals, newspaper ad, circular ad, Sunday sales, grocery ads, \">\\n\\t\\t<meta name=\"description\" content=\"Shop Target\\'s weekly sales &amp; deals from the Target Weekly Ad for men\\'s, women\\'s, kid\\'s and baby clothing &amp; apparel, toys, furniture, home goods &amp; more.\">\\n\\n\\t\\t<!-- Fav Icon -->\\n\\t\\t<link href=\"/modules/core/img/brand/favicon.ico\" rel=\"shortcut icon\" type=\"image/x-icon\">\\n\\n\\t\\t<!--Application CSS Files-->\\n\\t\\t<link rel=\"stylesheet\" href=\"/dist/application.12.8.2.min.css\">\\n\\t<meta http-equiv=\"origin-trial\" content=\"Az6AfRvI8mo7yiW5fLfj04W21t0ig6aMsGYpIqMTaX60H+b0DkO1uDr+7BrzMcimWzv/X7SXR8jI+uvbV0IJlwYAAACFeyJvcmlnaW4iOiJodHRwczovL2RvdWJsZWNsaWNrLm5ldDo0NDMiLCJmZWF0dXJlIjoiUHJpdmFjeVNhbmRib3hBZHNBUElzIiwiZXhwaXJ5IjoxNjgwNjUyNzk5LCJpc1N1YmRvbWFpbiI6dHJ1ZSwiaXNUaGlyZFBhcnR5Ijp0cnVlfQ==\"><meta http-equiv=\"origin-trial\" content=\"A+USTya+tNvDPaxUgJooz+LaVk5hPoAxpLvSxjogX4Mk8awCTQ9iop6zJ9d5ldgU7WmHqBlnQB41LHHRFxoaBwoAAACLeyJvcmlnaW4iOiJodHRwczovL2dvb2dsZXN5bmRpY2F0aW9uLmNvbTo0NDMiLCJmZWF0dXJlIjoiUHJpdmFjeVNhbmRib3hBZHNBUElzIiwiZXhwaXJ5IjoxNjgwNjUyNzk5LCJpc1N1YmRvbWFpbiI6dHJ1ZSwiaXNUaGlyZFBhcnR5Ijp0cnVlfQ==\"><meta http-equiv=\"origin-trial\" content=\"A7FovoGr67TUBYbnY+Z0IKoJbbmRmB8fCyirUGHavNDtD91CiGyHHSA2hDG9r9T3NjUKFi6egL3RbgTwhhcVDwUAAACLeyJvcmlnaW4iOiJodHRwczovL2dvb2dsZXRhZ3NlcnZpY2VzLmNvbTo0NDMiLCJmZWF0dXJlIjoiUHJpdmFjeVNhbmRib3hBZHNBUElzIiwiZXhwaXJ5IjoxNjgwNjUyNzk5LCJpc1N1YmRvbWFpbiI6dHJ1ZSwiaXNUaGlyZFBhcnR5Ijp0cnVlfQ==\"><script src=\"https://securepubads.g.doubleclick.net/gpt/pubads_impl_2022110201.js\" async=\"\"></script><style type=\"text/css\" id=\"kampyleStyle\">.noOutline{outline: none !important;}.wcagOutline:focus{outline: 1px dashed #595959 !important;outline-offset: 2px !important;transition: none !important;}</style></head>\\n\\n\\t<body class=\"ng-scope\" ng-controller=\"CoreController as core\">\\n\\t\\t<!-- ngIf: !core.isMobile --><!-- ngInclude: \\'/modules/core/views/header.client.view.html\\' --><header data-ng-if=\"!core.isMobile\" data-ng-include=\"\\'/modules/core/views/header.client.view.html\\'\" ng-keydown=\"core.escapeClick($event)\" class=\"ng-scope\" style=\"\"><span id=\"modalBackdrop\" aria-hidden=\"true\" ng-click=\"core.closeQuicklist()\" class=\"ng-scope\"></span>\\n<a href=\"#\" id=\"bullseye\" dwa-external-link=\"https://www.target.com\" class=\"bullseye-logo ng-scope\" title=\"Go to target.com\">\\n\\t<img aria-hidden=\"false\" src=\"/modules/core/img/brand/logo.svg\">\\n\\t<span class=\"sr-only ng-isolate-scope\" data-window-name=\"Go to target.com\" data-opens-new-window=\"true\">Go to target.com, opens in a new window</span>\\n</a>\\n<div id=\"searchFormId\" class=\"search-header ng-scope\" data-header=\"search\">\\n\\t<form id=\"searchForm\" class=\"search-input-form ng-pristine ng-invalid ng-invalid-required\" role=\"form\" name=\"core.searchForm\">\\n\\t\\t<input placeholder=\"Search Weekly Ad\" id=\"search\" name=\"searchTerm\" tabindex=\"0\" autocorrect=\"off\" autocapitalize=\"off\" autocomplete=\"off\" spellcheck=\"false\" type=\"search\" ng-model=\"core.keyword\" aria-describedby=\"searchLabel\" required=\"\" ui-keyup=\"{\\'enter\\':\\'core.search()\\'}\" class=\"ng-pristine ng-untouched ng-empty ng-invalid ng-invalid-required\">\\n\\t\\t<span ng-show=\"core.keyword.length > 0\" class=\"ng-hide\">\\n\\t\\t\\t<button id=\"resetButton\" data-search=\"reset\" type=\"button\" class=\"search-reset-button\" ng-click=\"core.resetSearchForm()\" ng-mousedown=\"core.resetSearchForm()\" aria-hidden=\"false\">\\n\\t\\t\\t\\t<svg xmlns=\"http://www.w3.org/2000/svg\" preserveAspectRatio=\"xMaxYMax\" viewBox=\"0 0 32 32\" height=\"14\" width=\"14\" focusable=\"false\" class=\"Icon-s1t7epqp-0 iCOdIk\"><g class=\"icon-stroke\"><path stroke=\"#666\" stroke-width=\"2\" fill=\"#666\" d=\"M1.6.4l.5-.4 14.4 16L2.1 32l-.5-.5 14-15.6L1.6.4z\"></path><path stroke=\"#666\" stroke-width=\"2\" fill=\"#666\" d=\"M16.5 16l14 15.5-.5.5-14.4-16L30 0l.5.4-14 15.6z\"></path></g></svg>\\n\\t\\t\\t\\t<span class=\"sr-only\">reset</span>\\n\\t\\t\\t</button>\\n\\t\\t</span>\\n\\t\\t<button class=\"btn search-input-form-button\" ng-click=\"core.search()\" ng-mousedown=\"core.search()\" aria-hidden=\"true\" id=\"searchButton\" data-search=\"submit\" type=\"submit\">\\n\\t\\t\\t<span class=\"sr-only\">go</span>\\n\\t\\t</button>\\n\\t</form>\\n</div>\\n<a href=\"#\" tabindex=\"0\" class=\"account-menu-header account-link ng-scope\" data-ng-click=\"core.setAccountOverlayOpen()\" uib-popover-template=\"\\'/modules/core/views/account-popover.client.view.html\\'\" id=\"accountButton\" popover-is-open=\"core.isAccountOverlayOpen()\" popover-placement=\"bottom-right\" popover-class=\"feature-overlay-popover feature-overlay-popover-account\" popover-trigger=\"\\'none\\'\">\\n\\t<span id=\"navText\" class=\"sr-only\"> open my account navigation menu, </span>\\n\\t<img class=\"sign-in\" aria-hidden=\"true\" src=\"/modules/core/img/account.svg\">\\n\\t<img class=\"my-account-drop-down\" aria-hidden=\"true\" src=\"/modules/core/img/white-caret-down.svg\" id=\"account-arrow\">\\n\\t<span class=\"hidden-sm hidden-xs my-account-subtext ng-binding\">Sign in</span>\\n</a>\\n<a ng-href=\"https://www.target.com/cart\" id=\"target-cart\" tabindex=\"0\" target=\"_blank\" title=\"View your cart on target.com\" class=\"target-cart ng-scope\" href=\"https://www.target.com/cart\">\\n\\t<span class=\"sr-only\"> You have </span>\\n\\t<!-- ngIf: core.getCartQuantity() == \\'0\\' --><span ng-if=\"core.getCartQuantity() == \\'0\\'\" class=\"sr-only ng-scope\">no items</span><!-- end ngIf: core.getCartQuantity() == \\'0\\' -->\\t\\n\\t<!-- ngIf: core.getCartQuantity() == \\'1\\' -->\\t\\n\\t<!-- ngIf: core.getCartQuantity() > \\'1\\' -->\\n\\t<span class=\"sr-only\"> in your cart</span>\\n\\t<!-- ngIf: core.getCartQuantity() > \\'0\\' -->\\n\\t<img aria-hidden=\"true\" src=\"/modules/core/img/cart.svg\">\\n\\t<span class=\"sr-only ng-isolate-scope\" data-window-name=\"View your cart on target.com\" data-opens-new-window=\"true\">View your cart on target.com, opens in a new window</span>\\n</a></header><!-- end ngIf: !core.isMobile -->\\n\\t\\t<!-- ngIf: core.isMobile -->\\n\\t\\t<!-- ngIf: !core.isMobile --><!-- ngInclude: \\'/modules/core/views/secondary-header.client.view.html\\' --><div data-ng-if=\"!core.isMobile\" data-ng-include=\"\\'/modules/core/views/secondary-header.client.view.html\\'\" ng-keydown=\"core.escapeClick($event)\" class=\"ng-scope\"><span id=\"modalBackdrop\" aria-hidden=\"true\" ng-click=\"core.closeQuicklist()\" class=\"ng-scope\"></span>\\n<div ng-keydown=\"core.escapeClick($event)\" class=\"secondary-header ng-scope\" data-ng-controller=\"PromotionsController as promotion\">\\n\\t<div class=\"weekly-ad-menu-drop-down\">\\n\\t\\t<a href=\"#\" tabindex=\"0\" data-ng-click=\"core.setWeeklyAdOverlayOpen()\" uib-popover-template=\"\\'/modules/core/views/weekly-ad-popover.client.view.html\\'\" popover-is-open=\"core.isWeeklyAdOverlayOpen()\" popover-placement=\"bottom-left\" popover-class=\"feature-overlay-popover feature-overlay-popover-weekly-ad\" popover-trigger=\"\\'none\\'\">Weekly Ad<img class=\"contain caret-padding\" aria-hidden=\"false\" src=\"/modules/core/img/dark-caret-down.svg\" id=\"weekly-promotion-arrow\"></a>\\n\\t\\t<a href=\"#\" id=\"myStore\" data-ng-click=\"core.changeStore()\" class=\"change-store-link ng-binding\">Silver Spring</a>\\n\\t\\t<!-- ngIf: !core.isHomePage() && !core.isSearchPage() && !core.isSneakPeek() --><span ng-if=\"!core.isHomePage() &amp;&amp; !core.isSearchPage() &amp;&amp; !core.isSneakPeek()\" class=\"promo-dates ng-binding ng-scope\">Prices Valid </span><!-- end ngIf: !core.isHomePage() && !core.isSearchPage() && !core.isSneakPeek() -->\\n\\t\\t<!-- ngIf: !core.isHomePage() && !core.isSearchPage() && core.isSneakPeek() -->\\n\\t</div>\\n\\t<div class=\"list-menu-drop-down\">\\n\\t\\t<!-- ngIf: !core.isHomePage() && !core.isCategoriesPage() && !core.isSearchPage() -->\\n\\t\\t<!-- ngIf: core.isPromotionsPage() -->\\n\\t\\t<!-- ngIf: core.isCategoriesPage() --><span ng-if=\"core.isCategoriesPage()\" class=\"hidden-xs hidden-sm ng-scope\">\\n\\t\\t\\t<!-- ngIf: !core.isPromotionsPage() --><a data-ng-controller=\"CategoriesController as category\" href=\"/promotions\" data-ng-if=\"!core.isPromotionsPage()\" tabindex=\"0\" data-ui-sref=\"promotions({code: category.promotionCode, page: category.page})\" class=\"page-view-button secondary-nav-text ng-scope\" data-ng-class=\"{ \\'view-show-border\\': core.isPromotionsPage() }\" data-ng-click=\"category.trackTabClick()\">\\n\\t\\t\\t\\t<span tabindex=\"-1\" class=\"padding-page-view\">View by Page<!-- ngIf: core.isPromotionsPage() --></span>\\n\\t\\t\\t</a><!-- end ngIf: !core.isPromotionsPage() -->\\n\\t\\t\\t<!-- ngIf: !core.isCategoriesPage() -->\\n\\t\\t</span><!-- end ngIf: core.isCategoriesPage() -->\\n\\t\\t<a href=\"#\" id=\"signUpForReminders\" data-ng-click=\"core.openRemindersModal($event)\" class=\"secondary-nav-text hidden-xs\">Reminders</a>\\n\\t</div>\\n</div></div><!-- end ngIf: !core.isMobile -->\\n\\t\\t<!-- ngIf: core.isMobile -->\\n\\t\\t<div class=\"feature-overlay-backdrop-header\"></div>\\n\\t\\t\\n\\t\\t<!-- ngIf: core.isMobile -->\\n\\t\\t\\n\\t\\t\\n\\t\\t<div class=\"contentWrapper\">\\n\\t\\t\\t<main>\\n\\t\\t\\t\\t<div class=\"feature-overlay-backdrop\"></div>\\n\\t\\t\\t\\t\\n\\n<!-- uiView: --><div data-ui-view=\"\" class=\"ng-scope\"></div>\\n\\n\\n\\t\\t\\t</main>\\n\\n\\t\\t\\t<!-- ngInclude: \\'/modules/core/views/footer.client.view.html\\' --><footer data-ng-include=\"\\'/modules/core/views/footer.client.view.html\\'\" class=\"ng-scope\" style=\"\"><div class=\"footer-layer ng-scope\">\\n\\t<ul>\\n\\t\\t<li>\\n\\t\\t\\t<a href=\"#\" dwa-external-link=\"https://www.target.com/c/terms-conditions/-/N-4sr7l\" rel=\"nofollow\">\\n\\t\\t\\t\\t<span aria-hidden=\"true\">Terms</span>\\n\\t\\t\\t\\t<span class=\"sr-only ng-isolate-scope\" data-window-name=\"Terms\" data-opens-new-window=\"true\">Terms, opens in a new window</span>\\n\\t\\t\\t</a>\\n\\t\\t</li>\\n\\t\\t<li>\\n\\t\\t\\t<a href=\"#\" dwa-external-link=\"https://www.target.com/c/target-privacy-policy/-/N-4sr7p\" rel=\"nofollow\">\\n\\t\\t\\t\\t<span aria-hidden=\"true\">Privacy\\n\\t\\t\\t\\t\\t<span class=\"privacy_update ng-binding ng-hide\" style=\"font-size:12px;\\n\\t\\t\\t\\t\\t\\tcolor:#CC0000\" ng-show=\"core.showPrivacy()\">\\n\\t\\t\\t\\t\\t\\t&nbsp;&nbsp;updated 7/2022\\n\\t\\t\\t\\t\\t</span>\\n\\t\\t\\t\\t</span>\\n\\t\\t\\t\\t<span class=\"sr-only ng-isolate-scope\" data-window-name=\"Privacy\" data-opens-new-window=\"true\">Privacy, opens in a new window</span>\\n\\t\\t\\t</a>\\n\\t\\t</li>\\n\\t\\t<li>\\n\\t\\t\\t<a href=\"#\" dwa-external-link=\"https://www.target.com/c/interest-based-advertising-privacy-policy/-/N-ztavm\" rel=\"nofollow\">\\n\\t\\t\\t\\t<span aria-hidden=\"true\">Interest-Based Ads</span>\\n\\t\\t\\t\\t<span class=\"sr-only ng-isolate-scope\" data-window-name=\"Interest Based Ads\" data-opens-new-window=\"true\">Interest Based Ads, opens in a new window</span>\\n\\t\\t\\t</a>\\n\\t\\t</li>\\n\\t\\t<li>\\n\\t\\t\\t<a href=\"#\" dwa-external-link=\"https://help.target.com/help/subcategoryarticle?childcat=CA+Transparency+in+Supply+Chains+Act&amp;parentcat=Compliance#\" rel=\"nofollow\">\\n\\t\\t\\t\\t<span aria-hidden=\"true\">CA Supply Chain Act</span>\\n\\t\\t\\t\\t<span class=\"sr-only ng-isolate-scope\" data-window-name=\"CA Supply Chain Act\" data-opens-new-window=\"true\">CA Supply Chain Act, opens in a new window</span>\\n\\t\\t\\t</a>\\n\\t\\t</li>\\n\\t\\t<li>\\n\\t\\t\\t<a href=\"#\" dwa-external-link=\"https://www.target.com/c/california-residents-privacy-policy/-/N-m2wjt\" rel=\"nofollow\">\\n\\t\\t\\t\\t<span aria-hidden=\"true\">CA Privacy</span>\\n\\t\\t\\t\\t<span class=\"sr-only ng-isolate-scope\" data-window-name=\"CA Privacy\" data-opens-new-window=\"true\">CA Privacy, opens in a new window</span>\\n\\t\\t\\t</a>\\n\\t\\t</li>\\n\\t\\t<li>\\n\\t\\t\\t<a href=\"#\" dwa-external-link=\"https://www.target.com/do-not-sell-ca\" rel=\"nofollow\">\\n\\t\\t\\t\\t<span style=\"text-transform: capitalize;\" aria-hidden=\"true\">Do Not Sell My Personal Information</span>\\n\\t\\t\\t\\t<span class=\"sr-only ng-isolate-scope\" data-window-name=\"Do Not Sell My Info\" data-opens-new-window=\"true\">Do Not Sell My Info, opens in a new window</span>\\n\\t\\t\\t</a>\\n\\t\\t</li>\\n\\t</ul>\\n\\t\\n\\t\\t\\n</div>\\n<div class=\"copyright ng-binding ng-scope\">\\n\\t<!-- We do not need to include the privacy date after 30 days. The line below may be uncommented when privacy policy is updated. -->\\n\\t<!-- <span class=\"privacy-text\">privacy updated 10/19</span> &#8482; &amp;  -->\\n\\t© 2022 Target Brands, Inc.\\n</div>\\n<div class=\"footer--trademark ng-scope\">\\n\\t<img class=\"svg\" src=\"/modules/core/img/dwa_ads/EMPL_RedBlack.svg\">\\n\\t<span class=\"sr-only\">target trademark logo</span>\\n</div>\\n</footer>\\n\\t\\t</div>\\n\\n\\t\\t<script async=\"\" type=\"text/javascript\" src=\"https://www.googletagservices.com/tag/js/gpt.js\"></script><script type=\"text/javascript\">\\n\\t\\t\\tvar apiDomain = \"https://api.target.com\",\\n\\t\\t\\t\\ttargetApiKey = \"9ba599525edd204c560a2182ae1cbfaa3eeddca5\";\\n\\t\\t</script>\\n\\n\\t\\t<!-- oAuth polyFill calls to handle Promise and Object.Assign (respectively) -->\\n\\t\\t<script src=\"//cdn.jsdelivr.net/npm/bluebird@2.9.34/js/browser/bluebird.min.js\"></script>\\n\\t\\t<script src=\"//cdn.jsdelivr.net/npm/es6-object-assign@1.1.0/dist/object-assign-auto.min.js\"></script>\\n\\t\\t\\n\\t\\t\\n\\t\\t<script type=\"text/javascript\" src=\"/assets/gsp/gsp-js-sdk-GspAuth.latest.lib.min.js\"></script>\\n\\t\\t<!--Application JavaScript Files-->\\n\\t\\t<script type=\"text/javascript\" src=\"/dist/angular.min.js\"></script><script type=\"text/javascript\" src=\"/dist/application.12.8.2.min.js\"></script>\\n\\n\\t\\t\\n\\t\\t\\n\\t\\t<script type=\"text/javascript\">\\n\\t\\t\\tfor (var prop in {\"build\":\"12.8.2\",\"environment\":\"PRODUCTION\"}) {\\n\\t\\t\\t\\tvar val = {\"build\":\"12.8.2\",\"environment\":\"PRODUCTION\"}[prop];\\n\\t\\t\\t\\tthis[prop] = val;\\n\\t\\t\\t}\\n\\t\\t</script>\\n\\t\\t<script type=\"text/javascript\"> var medallia_ab = Math.floor(Math.random() * 100) + 1; </script> \\n\\t\\t<script type=\"text/javascript\" async=\"\" src=\"//cdn-usent.kampyle.com/usent/610/onsite/embed.js\"></script>\\n\\t\\n\\n<script type=\"text/javascript\" async=\"\" src=\"https://cdn-usent.kampyle.com/usent/610/onsite/generic1664899997016.js\" charset=\"UTF-8\"></script><style title=\"MDigital_animationStyle\"></style></body></html>'"
      ]
     },
     "execution_count": 27,
     "metadata": {},
     "output_type": "execute_result"
    }
   ],
   "source": [
    "driver.page_source"
   ]
  },
  {
   "cell_type": "code",
   "execution_count": 28,
   "id": "ee3b7899",
   "metadata": {
    "scrolled": true
   },
   "outputs": [
    {
     "data": {
      "text/plain": [
       "<selenium.webdriver.remote.webelement.WebElement (session=\"b05d0c7d229fdbe888e529c7c05a2a5a\", element=\"6fcb53f3-2e2a-4e75-b7be-b4f0e4235718\")>"
      ]
     },
     "execution_count": 28,
     "metadata": {},
     "output_type": "execute_result"
    }
   ],
   "source": [
    "View_the_Weekly_Ad"
   ]
  },
  {
   "cell_type": "code",
   "execution_count": 51,
   "id": "463eb492",
   "metadata": {},
   "outputs": [
    {
     "data": {
      "text/plain": [
       "'https://weeklyad.target.com/categories'"
      ]
     },
     "execution_count": 51,
     "metadata": {},
     "output_type": "execute_result"
    }
   ],
   "source": [
    "View_by_Category_url"
   ]
  },
  {
   "cell_type": "code",
   "execution_count": 43,
   "id": "0909644e",
   "metadata": {},
   "outputs": [],
   "source": [
    "driver.get(View_by_Category_url)"
   ]
  },
  {
   "cell_type": "code",
   "execution_count": 46,
   "id": "5659c57f",
   "metadata": {},
   "outputs": [],
   "source": [
    "category_links = []"
   ]
  },
  {
   "cell_type": "code",
   "execution_count": 47,
   "id": "396a364c",
   "metadata": {},
   "outputs": [],
   "source": [
    "soup = BeautifulSoup(driver.page_source, 'lxml')\n",
    "categories_list = soup.find('div', class_=\"category-tiles\")\n",
    "categories_links = categories_list.find_all('a', class_=\"ng-binding\")"
   ]
  },
  {
   "cell_type": "code",
   "execution_count": 48,
   "id": "1ed161a0",
   "metadata": {},
   "outputs": [
    {
     "data": {
      "text/plain": [
       "[<a class=\"ng-binding\" href=\"#\" id=\"link-5118566\">entertainment &amp; video games</a>,\n",
       " <a class=\"ng-binding\" href=\"#\" id=\"link-5118496\">baby</a>,\n",
       " <a class=\"ng-binding\" href=\"#\" id=\"link-5118568\">luggage</a>,\n",
       " <a class=\"ng-binding\" href=\"#\" id=\"link-5118567\">toys &amp; sports</a>,\n",
       " <a class=\"ng-binding\" href=\"#\" id=\"link-5118520\">food</a>,\n",
       " <a class=\"ng-binding\" href=\"#\" id=\"link-5118495\">health &amp; beauty</a>,\n",
       " <a class=\"ng-binding\" href=\"#\" id=\"link-5118571\">pets</a>,\n",
       " <a class=\"ng-binding\" href=\"#\" id=\"link-5118572\">holidays &amp; party</a>,\n",
       " <a class=\"ng-binding\" href=\"#\" id=\"link-5118498\">electronics</a>,\n",
       " <a class=\"ng-binding\" href=\"#\" id=\"link-5118488\">home</a>,\n",
       " <a class=\"ng-binding\" href=\"#\" id=\"link-5118570\">household essentials</a>]"
      ]
     },
     "execution_count": 48,
     "metadata": {},
     "output_type": "execute_result"
    }
   ],
   "source": [
    "categories_links"
   ]
  },
  {
   "cell_type": "code",
   "execution_count": null,
   "id": "d86e6bea",
   "metadata": {},
   "outputs": [],
   "source": []
  },
  {
   "cell_type": "code",
   "execution_count": 49,
   "id": "fb7b2f93",
   "metadata": {},
   "outputs": [],
   "source": [
    "#https://weeklyad.target.com/categories?code=Target-20221106&category_tree_id=5118496"
   ]
  },
  {
   "cell_type": "code",
   "execution_count": 50,
   "id": "29b67098",
   "metadata": {},
   "outputs": [
    {
     "data": {
      "text/plain": [
       "'https://weeklyad.target.com/categories'"
      ]
     },
     "execution_count": 50,
     "metadata": {},
     "output_type": "execute_result"
    }
   ],
   "source": [
    "driver.current_url"
   ]
  },
  {
   "cell_type": "code",
   "execution_count": 14,
   "id": "c30f5b94",
   "metadata": {},
   "outputs": [],
   "source": [
    "for category in categories_links:\n",
    "    category_links.append(driver.current_url+ '''&category_tree_id='''+category['id'].split('-')[-1])"
   ]
  },
  {
   "cell_type": "code",
   "execution_count": 15,
   "id": "2623d47e",
   "metadata": {},
   "outputs": [
    {
     "data": {
      "text/plain": [
       "['https://weeklyad.target.com/categories&category_tree_id=5118566',\n",
       " 'https://weeklyad.target.com/categories&category_tree_id=5118496',\n",
       " 'https://weeklyad.target.com/categories&category_tree_id=5118568',\n",
       " 'https://weeklyad.target.com/categories&category_tree_id=5118567',\n",
       " 'https://weeklyad.target.com/categories&category_tree_id=5118520',\n",
       " 'https://weeklyad.target.com/categories&category_tree_id=5118495',\n",
       " 'https://weeklyad.target.com/categories&category_tree_id=5118571',\n",
       " 'https://weeklyad.target.com/categories&category_tree_id=5118572',\n",
       " 'https://weeklyad.target.com/categories&category_tree_id=5118498',\n",
       " 'https://weeklyad.target.com/categories&category_tree_id=5118488',\n",
       " 'https://weeklyad.target.com/categories&category_tree_id=5118570']"
      ]
     },
     "execution_count": 15,
     "metadata": {},
     "output_type": "execute_result"
    }
   ],
   "source": [
    "category_links"
   ]
  },
  {
   "cell_type": "code",
   "execution_count": 15,
   "id": "5bb62262",
   "metadata": {},
   "outputs": [
    {
     "data": {
      "text/plain": [
       "['https://weeklyad.target.com/categories&category_tree_id=5118566',\n",
       " 'https://weeklyad.target.com/categories&category_tree_id=5118496',\n",
       " 'https://weeklyad.target.com/categories&category_tree_id=5118568',\n",
       " 'https://weeklyad.target.com/categories&category_tree_id=5118567',\n",
       " 'https://weeklyad.target.com/categories&category_tree_id=5118520',\n",
       " 'https://weeklyad.target.com/categories&category_tree_id=5118495',\n",
       " 'https://weeklyad.target.com/categories&category_tree_id=5118571',\n",
       " 'https://weeklyad.target.com/categories&category_tree_id=5118572',\n",
       " 'https://weeklyad.target.com/categories&category_tree_id=5118498',\n",
       " 'https://weeklyad.target.com/categories&category_tree_id=5118488',\n",
       " 'https://weeklyad.target.com/categories&category_tree_id=5118570']"
      ]
     },
     "execution_count": 15,
     "metadata": {},
     "output_type": "execute_result"
    }
   ],
   "source": [
    "category_links"
   ]
  },
  {
   "cell_type": "code",
   "execution_count": 22,
   "id": "aad2628b",
   "metadata": {},
   "outputs": [
    {
     "name": "stdout",
     "output_type": "stream",
     "text": [
      "https://weeklyad.target.com/categories&category_tree_id=5118566\n",
      "https://weeklyad.target.com/categories&category_tree_id=5118496\n",
      "https://weeklyad.target.com/categories&category_tree_id=5118568\n",
      "https://weeklyad.target.com/categories&category_tree_id=5118567\n"
     ]
    },
    {
     "ename": "KeyboardInterrupt",
     "evalue": "",
     "output_type": "error",
     "traceback": [
      "\u001b[0;31m---------------------------------------------------------------------------\u001b[0m",
      "\u001b[0;31mKeyboardInterrupt\u001b[0m                         Traceback (most recent call last)",
      "Input \u001b[0;32mIn [22]\u001b[0m, in \u001b[0;36m<cell line: 1>\u001b[0;34m()\u001b[0m\n\u001b[1;32m      2\u001b[0m \u001b[38;5;28mprint\u001b[39m(category_link)\n\u001b[1;32m      3\u001b[0m driver\u001b[38;5;241m.\u001b[39mget(category_link)\n\u001b[0;32m----> 4\u001b[0m \u001b[43mtime\u001b[49m\u001b[38;5;241;43m.\u001b[39;49m\u001b[43msleep\u001b[49m\u001b[43m(\u001b[49m\u001b[38;5;241;43m3\u001b[39;49m\u001b[43m)\u001b[49m\n",
      "\u001b[0;31mKeyboardInterrupt\u001b[0m: "
     ]
    }
   ],
   "source": [
    "for category_link in category_links:\n",
    "    print(category_link)\n",
    "    driver.get(category_link)\n",
    "    time.sleep(3)"
   ]
  },
  {
   "cell_type": "code",
   "execution_count": null,
   "id": "b3cb5d61",
   "metadata": {},
   "outputs": [],
   "source": []
  }
 ],
 "metadata": {
  "kernelspec": {
   "display_name": "Python 3 (ipykernel)",
   "language": "python",
   "name": "python3"
  },
  "language_info": {
   "codemirror_mode": {
    "name": "ipython",
    "version": 3
   },
   "file_extension": ".py",
   "mimetype": "text/x-python",
   "name": "python",
   "nbconvert_exporter": "python",
   "pygments_lexer": "ipython3",
   "version": "3.9.13"
  }
 },
 "nbformat": 4,
 "nbformat_minor": 5
}
